{
 "cells": [
  {
   "cell_type": "code",
   "execution_count": 1,
   "id": "d752e8d5",
   "metadata": {},
   "outputs": [],
   "source": [
    "import random\n",
    "from IPython.display import clear_output"
   ]
  },
  {
   "cell_type": "markdown",
   "id": "fb5bcde3",
   "metadata": {},
   "source": [
    "## color Class"
   ]
  },
  {
   "cell_type": "code",
   "execution_count": 2,
   "id": "2310066a",
   "metadata": {},
   "outputs": [],
   "source": [
    "class TextStyle:\n",
    "    BLACK = '\\033[30m'\n",
    "    RED = '\\033[31m'\n",
    "    GREEN = '\\033[32m'\n",
    "    YELLOW = '\\033[33m'\n",
    "    BLUE = '\\033[34m'\n",
    "    MAGENTA = '\\033[35m'\n",
    "    CYAN = '\\033[36m'\n",
    "    WHITE = '\\033[37m'\n",
    "    UNDERLINE = '\\033[4m'\n",
    "    RESET = '\\033[0m'"
   ]
  },
  {
   "cell_type": "markdown",
   "id": "8177a3df",
   "metadata": {},
   "source": [
    "## variables"
   ]
  },
  {
   "cell_type": "code",
   "execution_count": 3,
   "id": "9e603d2c",
   "metadata": {},
   "outputs": [],
   "source": [
    "game_board = []\n",
    "playing = True\n",
    "player = ''\n",
    "player_round = ['pc', 'player']\n",
    "players = {'pc': 'X', 'player': 'O'}\n",
    "player_name = ''\n",
    "pc_piece_location = set()\n",
    "player_peice_location = set()\n",
    "win_locations = [{1, 2, 3}, {1, 4, 7}, {1, 5, 9}, {2, 5, 8}, {3, 6, 9}, {3, 5, 7}, {4, 5, 6}, {7, 8, 9}]\n",
    "win_player = ''"
   ]
  },
  {
   "cell_type": "markdown",
   "id": "49f7ff44",
   "metadata": {},
   "source": [
    "## clear screen and display board and game info"
   ]
  },
  {
   "cell_type": "code",
   "execution_count": 4,
   "id": "8551a61e",
   "metadata": {},
   "outputs": [],
   "source": [
    "    def clearScreen():\n",
    "        global player_name\n",
    "        global players\n",
    "        global pc_piece_location\n",
    "        global player_peice_location\n",
    "        global game_board\n",
    "        global win_player\n",
    "        \n",
    "        clear_output()\n",
    "        print(f\"{TextStyle.BLUE}Player round = {player} {TextStyle.RESET}\", end='\\t')\n",
    "        print(\n",
    "            f\"{TextStyle.BLUE}Pieces info : player \\'{player_name}\\'={players['player']} , pc={players['pc']}{TextStyle.RESET}\")\n",
    "        print(\n",
    "            f\"{TextStyle.YELLOW}pc piece locations : {pc_piece_location} and player piece locations : {player_peice_location}{TextStyle.RESET}\")\n",
    "        print('-' * 80)\n",
    "\n",
    "        # print board\n",
    "        for index, item in enumerate(game_board):\n",
    "            if (index + 1) % 3 != 0:\n",
    "                print(f\"{TextStyle.MAGENTA}{item}{TextStyle.RESET}\", end='  |  ')\n",
    "            else:\n",
    "                print(f\"{TextStyle.MAGENTA}{item}  {TextStyle.RESET}\")\n",
    "                print('-' * 15)\n",
    "\n",
    "        if checkWin():\n",
    "            print(f\"{TextStyle.GREEN}{win_player} wins{TextStyle.RESET}\")\n",
    "        elif checkBoard():\n",
    "            print(f\"{TextStyle.GREEN}DRAW{TextStyle.RESET}\")"
   ]
  },
  {
   "cell_type": "markdown",
   "id": "73abfcff",
   "metadata": {},
   "source": [
    "## player choose its piece whether its 'x' or 'o'"
   ]
  },
  {
   "cell_type": "code",
   "execution_count": 5,
   "id": "5e5cbbf2",
   "metadata": {},
   "outputs": [],
   "source": [
    "def playerChoosePiece():\n",
    "    global player_name\n",
    "    global players\n",
    "    player_name = input('Please input your name : ')\n",
    "    player = ''\n",
    "    while player not in ['x', 'X', 'o', 'O']:\n",
    "        player = input(\"Please Choose Your Pieace: 'X' or 'O'\")\n",
    "    if player in ['X', 'x']:\n",
    "        players['player'] = 'X'\n",
    "        players['pc'] = 'O'\n",
    "    else:\n",
    "        players['player'] = 'O'\n",
    "        players['pc'] = 'X'"
   ]
  },
  {
   "cell_type": "markdown",
   "id": "9d2924f8",
   "metadata": {},
   "source": [
    "## player choose location to put its piece in"
   ]
  },
  {
   "cell_type": "code",
   "execution_count": 6,
   "id": "b5155f08",
   "metadata": {},
   "outputs": [],
   "source": [
    "def playerChoosePlaceToPut():\n",
    "    global game_board\n",
    "    global filterListMethod\n",
    "    global players\n",
    "    global game_board\n",
    "    global player_peice_location\n",
    "    player_input = 0\n",
    "    place_list = list(filter(filterListMethod, game_board))\n",
    "    while player_input not in place_list:\n",
    "        try:\n",
    "            print(f\"place numbers left : {place_list}\")\n",
    "            player_input = int(input(\"Please choose place number for your Piece : \"))\n",
    "\n",
    "        except:\n",
    "            clearScreen()\n",
    "    player_peice_location.add(player_input)\n",
    "    game_board[player_input - 1] = players['player']"
   ]
  },
  {
   "cell_type": "markdown",
   "id": "18373049",
   "metadata": {},
   "source": [
    "## pc choose place to put its piece in"
   ]
  },
  {
   "cell_type": "code",
   "execution_count": 7,
   "id": "1fa0d89f",
   "metadata": {},
   "outputs": [],
   "source": [
    "\n",
    "def pcChoosePlaceToPut():\n",
    "    global players\n",
    "    global filterListMethod\n",
    "    global game_board\n",
    "    global pc_piece_location\n",
    "    global players\n",
    "    \n",
    "    place_list = list(filter(filterListMethod, game_board))\n",
    "    pc_input = random.choice(place_list)\n",
    "    pc_piece_location.add(pc_input)\n",
    "    game_board[pc_input - 1] = players['pc']\n",
    "\n"
   ]
  },
  {
   "cell_type": "markdown",
   "id": "0a4b9118",
   "metadata": {},
   "source": [
    "## filter method for list to get empty spaces"
   ]
  },
  {
   "cell_type": "code",
   "execution_count": 8,
   "id": "e4419079",
   "metadata": {},
   "outputs": [],
   "source": [
    "def filterListMethod(number):\n",
    "    if number in list(range(1, 10)):\n",
    "        return True\n",
    "    else:\n",
    "        return False"
   ]
  },
  {
   "cell_type": "markdown",
   "id": "d1b1c951",
   "metadata": {},
   "source": [
    "## check if any player wins"
   ]
  },
  {
   "cell_type": "code",
   "execution_count": 9,
   "id": "c48200c1",
   "metadata": {},
   "outputs": [],
   "source": [
    "def checkWin():\n",
    "    global win_locations\n",
    "    global pc_piece_location\n",
    "    global player_peice_location\n",
    "    global win_player \n",
    "    for item in win_locations:\n",
    "        if item.issubset(pc_piece_location):\n",
    "            #print(f\"{TextStyle.GREEN}PC Wins : {item} {TextStyle.RESET}\")\n",
    "            win_player = 'pc'\n",
    "            return True\n",
    "        elif item.issubset(player_peice_location):\n",
    "            #print(f\"{TextStyle.GREEN}{global player_name} Wins : {item} {TextStyle.RESET}\")\n",
    "            win_player = 'player'\n",
    "            return True\n",
    "    return False\n",
    "\n"
   ]
  },
  {
   "cell_type": "markdown",
   "id": "42103431",
   "metadata": {},
   "source": [
    "## Check Board if there is any space and game is draw if there is not any space"
   ]
  },
  {
   "cell_type": "code",
   "execution_count": 10,
   "id": "8976f0d6",
   "metadata": {},
   "outputs": [],
   "source": [
    "def checkBoard():\n",
    "    global filterListMethod\n",
    "    global game_board\n",
    "    global playing\n",
    "    place_list = list(filter(filterListMethod, game_board))\n",
    "    if len(place_list) == 0:\n",
    "        #print(f\"{TextStyle.GREEN}DRAW {TextStyle.RESET}\")\n",
    "        playing = False\n",
    "        return True\n",
    "\n"
   ]
  },
  {
   "cell_type": "markdown",
   "id": "5a35406e",
   "metadata": {},
   "source": [
    "## restart Game"
   ]
  },
  {
   "cell_type": "code",
   "execution_count": 11,
   "id": "3be7e8cc",
   "metadata": {},
   "outputs": [],
   "source": [
    "def restartGame():\n",
    "    global playing\n",
    "    playing = False\n",
    "    reset = ''\n",
    "    while reset.lower() not in ['y','yes','n','no']:\n",
    "        reset = input(\"Do you want to restart game ? \\'y\\' or \\'no\\' : \").lower()\n",
    "        if reset in ['y','yes']:\n",
    "            #clearScreen()\n",
    "            clear_output()\n",
    "            startGame()\n",
    "        else:\n",
    "            clearScreen()\n",
    "            break\n"
   ]
  },
  {
   "cell_type": "markdown",
   "id": "572e0b65",
   "metadata": {},
   "source": [
    "## start the game"
   ]
  },
  {
   "cell_type": "code",
   "execution_count": 12,
   "id": "3a6e5569",
   "metadata": {},
   "outputs": [],
   "source": [
    "def startGame():\n",
    "    global playing\n",
    "    global game_board\n",
    "    global player\n",
    "    global player_round\n",
    "    game_board = list(range(1, 10))\n",
    "    player = random.choice(player_round)\n",
    "    playerChoosePiece()\n",
    "    while playing == True:\n",
    "        if checkWin():\n",
    "            break\n",
    "        if checkBoard():\n",
    "            break\n",
    "        if player == 'player':\n",
    "            clearScreen()\n",
    "            playerChoosePlaceToPut()\n",
    "            player = 'pc'\n",
    "        else:\n",
    "            pcChoosePlaceToPut()\n",
    "            clearScreen()\n",
    "            player = 'player'\n",
    "    clearScreen()\n",
    "    restartGame()\n"
   ]
  },
  {
   "cell_type": "code",
   "execution_count": null,
   "id": "da2b06df",
   "metadata": {},
   "outputs": [],
   "source": [
    "startGame()"
   ]
  },
  {
   "cell_type": "code",
   "execution_count": null,
   "id": "c1a73509",
   "metadata": {},
   "outputs": [],
   "source": []
  }
 ],
 "metadata": {
  "kernelspec": {
   "display_name": "Python 3 (ipykernel)",
   "language": "python",
   "name": "python3"
  },
  "language_info": {
   "codemirror_mode": {
    "name": "ipython",
    "version": 3
   },
   "file_extension": ".py",
   "mimetype": "text/x-python",
   "name": "python",
   "nbconvert_exporter": "python",
   "pygments_lexer": "ipython3",
   "version": "3.9.13"
  }
 },
 "nbformat": 4,
 "nbformat_minor": 5
}
